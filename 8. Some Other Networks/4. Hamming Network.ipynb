{
 "cells": [
  {
   "cell_type": "code",
   "execution_count": 7,
   "metadata": {},
   "outputs": [],
   "source": [
    "import numpy as np\r\n",
    "\r\n",
    "def maxnet(v,eps):\r\n",
    "    unique, index = np.unique(v,return_index=True)\r\n",
    "    for i in range(len(v)):\r\n",
    "        if i not in index:\r\n",
    "            v[i]=0\r\n",
    "    W = np.full((len(v),len(v)),-eps);np.fill_diagonal(W, 1)\r\n",
    "    while np.count_nonzero(v) != 1:\r\n",
    "        v = np.matmul(W,v).clip(min=0)\r\n",
    "    return v.argmax()\r\n",
    "\r\n",
    "def hamming(E, V):\r\n",
    "    W = (E/2).T.copy()\r\n",
    "    b = len(V)/2\r\n",
    "    output = []\r\n",
    "    for v in V:\r\n",
    "        i = maxnet(np.matmul(v, W)+b,0.3)\r\n",
    "        output.append((v, E[i]))\r\n",
    "    return output"
   ]
  },
  {
   "cell_type": "code",
   "execution_count": 8,
   "metadata": {},
   "outputs": [
    {
     "data": {
      "text/plain": [
       "[(array([-1,  1, -1,  1, -1,  1]), array([-1,  1, -1,  1, -1, -1])),\n",
       " (array([ 1,  1,  1, -1, -1,  1]), array([ 1,  1,  1, -1, -1, -1])),\n",
       " (array([ 1, -1, -1, -1, -1,  1]), array([ 1, -1,  1, -1,  1, -1]))]"
      ]
     },
     "execution_count": 8,
     "metadata": {},
     "output_type": "execute_result"
    }
   ],
   "source": [
    "e1 = [1, -1, 1, -1, 1, -1]\r\n",
    "e2 = [-1, 1, -1, 1, -1, -1]\r\n",
    "e3 = [1, 1, 1, -1, -1, -1]\r\n",
    "E = np.array([e1, e2, e3])\r\n",
    "\r\n",
    "V1 = [-1, 1, -1, 1, -1, 1]\r\n",
    "V2 = [1, 1, 1, -1, -1, 1]\r\n",
    "V3 = [1, -1, -1, -1, -1, 1]\r\n",
    "\r\n",
    "V = np.array([V1, V2, V3,])\r\n",
    "hamming(E=E, V=V)"
   ]
  },
  {
   "cell_type": "code",
   "execution_count": 9,
   "metadata": {},
   "outputs": [
    {
     "data": {
      "text/plain": [
       "[(array([1, 1, 1, 1, 1, 1]), array([ 1, -1,  1, -1,  1, -1])),\n",
       " (array([-1,  1, -1, -1,  1,  1]), array([-1,  1, -1,  1, -1, -1])),\n",
       " (array([-1, -1,  1,  1,  1,  1]), array([ 1, -1,  1, -1,  1, -1])),\n",
       " (array([-1, -1,  1,  1, -1,  1]), array([-1,  1, -1,  1, -1, -1])),\n",
       " (array([-1,  1,  1, -1, -1, -1]), array([ 1,  1,  1, -1, -1, -1]))]"
      ]
     },
     "execution_count": 9,
     "metadata": {},
     "output_type": "execute_result"
    }
   ],
   "source": [
    "V1 = [1, 1, 1, 1, 1, 1]\r\n",
    "V2 = [-1, 1, -1, -1, 1, 1]\r\n",
    "V3 = [-1, -1, 1, 1, 1, 1]\r\n",
    "V4 = [-1, -1, 1, 1, -1, 1]\r\n",
    "V5 = [-1, 1, 1, -1, -1, -1]\r\n",
    "\r\n",
    "V = np.array([V1, V2, V3, V4, V5])\r\n",
    "hamming(E=E, V=V)"
   ]
  }
 ],
 "metadata": {
  "interpreter": {
   "hash": "d75f9f4f678c908509ce38fa04ddbf32fdfcdc2649295be0024fc2b0ee0e4703"
  },
  "kernelspec": {
   "display_name": "Python 3.9.0 64-bit",
   "name": "python3"
  },
  "language_info": {
   "codemirror_mode": {
    "name": "ipython",
    "version": 3
   },
   "file_extension": ".py",
   "mimetype": "text/x-python",
   "name": "python",
   "nbconvert_exporter": "python",
   "pygments_lexer": "ipython3",
   "version": "3.8.5"
  },
  "orig_nbformat": 4
 },
 "nbformat": 4,
 "nbformat_minor": 2
}