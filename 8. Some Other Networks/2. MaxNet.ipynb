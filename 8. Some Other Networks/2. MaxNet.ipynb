{
 "cells": [
  {
   "cell_type": "code",
   "execution_count": 20,
   "metadata": {},
   "outputs": [
    {
     "name": "stdout",
     "output_type": "stream",
     "text": [
      "v: \t [0.5461 0.4331 0.     0.8851 0.467  0.0941]\n",
      "v: \t [0.301791 0.174101 0.       0.684861 0.212408 0.      ]\n",
      "v: \t [0.1625129  0.0182232  0.         0.595382   0.06151011 0.        ]\n",
      "v: \t [0.07474791 0.         0.         0.56388999 0.         0.        ]\n",
      "v: \t [0.00144221 0.         0.         0.55417276 0.         0.        ]\n",
      "v: \t [0.         0.         0.         0.55398528 0.         0.        ]\n",
      "max index:  3 \n",
      "\n",
      "v: \t [1.356  1.243  0.565  0.     1.2769 0.     0.     0.     0.     1.695\n",
      " 0.     0.904 ]\n",
      "v: \t [0.617093 0.489403 0.       0.       0.52771  0.       0.       0.\n",
      " 0.       1.000163 0.       0.106333]\n",
      "v: \t [0.34102383 0.19673413 0.         0.         0.24002104 0.\n",
      " 0.         0.         0.         0.77389293 0.         0.        ]\n",
      "v: \t [0.18363958 0.02059222 0.         0.         0.06950642 0.\n",
      " 0.         0.         0.         0.67278166 0.         0.        ]\n",
      "v: \t [0.08446514 0.         0.         0.         0.         0.\n",
      " 0.         0.         0.         0.63719569 0.         0.        ]\n",
      "v: \t [0.0016297  0.         0.         0.         0.         0.\n",
      " 0.         0.         0.         0.62621522 0.         0.        ]\n",
      "v: \t [0.         0.         0.         0.         0.         0.\n",
      " 0.         0.         0.         0.62600336 0.         0.        ]\n",
      "max index:  3\n"
     ]
    }
   ],
   "source": [
    "import numpy as np\r\n",
    "\r\n",
    "def maxnet(v,eps):\r\n",
    "    unique, index = np.unique(v,return_index=True)\r\n",
    "    for i in range(len(v)):\r\n",
    "        if i not in index:\r\n",
    "            v[i]=0\r\n",
    "    W = np.full((len(v),len(v)),-eps);np.fill_diagonal(W, 1)\r\n",
    "    while np.count_nonzero(v) >=2:\r\n",
    "        v = np.matmul(W,v).clip(min=0)\r\n",
    "        print(\"v:\",\"\\t\",v)\r\n",
    "    return v.argmax()\r\n",
    "\r\n",
    "v1 = np.array([1.2,1.1,0.5,1.5,1.13,0.8])\r\n",
    "v2 = np.array([1.2,1.1,0.5,-1.5,1.13,-0.8])\r\n",
    "eps = 0.13\r\n",
    "print(\"max index: \",maxnet(v1,eps),\"\\n\")\r\n",
    "print(\"max index: \",maxnet(np.concatenate((v2,-v2), axis=0),eps)%len(v2))"
   ]
  }
 ],
 "metadata": {
  "interpreter": {
   "hash": "d75f9f4f678c908509ce38fa04ddbf32fdfcdc2649295be0024fc2b0ee0e4703"
  },
  "kernelspec": {
   "display_name": "Python 3.9.0 64-bit",
   "name": "python3"
  },
  "language_info": {
   "codemirror_mode": {
    "name": "ipython",
    "version": 3
   },
   "file_extension": ".py",
   "mimetype": "text/x-python",
   "name": "python",
   "nbconvert_exporter": "python",
   "pygments_lexer": "ipython3",
   "version": "3.8.5"
  },
  "orig_nbformat": 4
 },
 "nbformat": 4,
 "nbformat_minor": 2
}