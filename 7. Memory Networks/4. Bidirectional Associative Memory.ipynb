{
 "cells": [
  {
   "cell_type": "code",
   "execution_count": 2,
   "metadata": {},
   "outputs": [],
   "source": [
    "import numpy as np\r\n",
    "import random\r\n",
    "import matplotlib.pyplot as plt\r\n",
    "import pandas as pd"
   ]
  },
  {
   "cell_type": "markdown",
   "metadata": {},
   "source": [
    "# initiate\r\n"
   ]
  },
  {
   "cell_type": "code",
   "execution_count": 3,
   "metadata": {},
   "outputs": [
    {
     "data": {
      "image/png": "[encoded data removed]",
      "text/plain": "<Figure size 432x288 with 8 Axes>"
     },
     "metadata": {
      "needs_background": "light"
     },
     "output_type": "display_data"
    }
   ],
   "source": [
    "s=[]\r\n",
    "s.append((np.array([-1,1,-1,1,-1,1,1,1,1,1,-1,1,1,-1,1]),     [-1,-1,-1]))\r\n",
    "s.append((np.array([1,1,-1,1,-1,1,1,1,-1,1,-1,1,1,1,-1]),     [-1,-1,1]))\r\n",
    "s.append((np.array([-1,1,1,1,-1,-1,1,-1,-1,1,-1,-1,-1,1,1]),  [-1,1,-1]))\r\n",
    "s.append((np.array([1,1,-1,1,-1,1,1,-1,1,1,-1,1,1,1,-1]),     [-1,1,1]))\r\n",
    "s.append((np.array([1,1,1,1,-1,-1,1,1,-1,1,-1,-1,1,1,1]),     [1,-1,-1]))\r\n",
    "s.append((np.array([1,1,1,1,-1,-1,1,1,-1,1,-1,-1,1,-1,-1]),   [1,-1,1]))\r\n",
    "s.append((np.array([-1,1,1,1,-1,-1,1,-1,1,1,-1,1,-1,1,1]),    [1,1,-1]))\r\n",
    "s.append((np.array([1,-1,1,1,-1,1,1,1,1,1,-1,1,1,-1,1]),      [1,1,1]))\r\n",
    "\r\n",
    "for i,v in enumerate(s):\r\n",
    "    plt.subplot(241+i)\r\n",
    "    plt.tight_layout()\r\n",
    "    plt.title(v[1])\r\n",
    "    plt.imshow(v[0].reshape(5,3))"
   ]
  },
  {
   "cell_type": "markdown",
   "metadata": {},
   "source": [
    "# learning\r\n"
   ]
  },
  {
   "cell_type": "code",
   "execution_count": 8,
   "metadata": {},
   "outputs": [
    {
     "data": {
      "text/plain": "array([[ 1., -1.,  3.],\n       [-3., -1., -1.],\n       [ 1.,  3., -1.],\n       [-3., -1., -1.],\n       [ 3.,  1.,  1.],\n       [-1., -3.,  1.],\n       [-3., -1., -1.],\n       [-1., -3.,  1.],\n       [ 1., -1., -1.],\n       [-3., -1., -1.],\n       [ 3.,  1.,  1.],\n       [-1., -3.,  1.],\n       [-1., -3.,  1.],\n       [-1.,  1.,  1.],\n       [-1.,  1., -3.]])"
     },
     "execution_count": 8,
     "metadata": {},
     "output_type": "execute_result"
    }
   ],
   "source": [
    "W_3 = np.zeros((15,3))\r\n",
    "for v in s[:3]:\r\n",
    "    W_3 += np.matmul(v[0][np.newaxis].T,np.array(v[1])[np.newaxis]) \r\n",
    "W_3"
   ]
  },
  {
   "cell_type": "markdown",
   "metadata": {},
   "source": [
    "# Test Network\r\n"
   ]
  },
  {
   "cell_type": "code",
   "execution_count": 9,
   "metadata": {},
   "outputs": [],
   "source": [
    "def BAM(W , X_layer_input = np.array([0] * 15),Y_layer_input = np.array([0] * 3)):\r\n",
    "\tconv = False\r\n",
    "\tepochs=30\r\n",
    "\tX_layer = np.array(X_layer_input.copy())\r\n",
    "\tY_layer = np.array(Y_layer_input.copy())\r\n",
    "\tif X_layer.any():\r\n",
    "\t\twhile (not conv) and epochs != 0:\r\n",
    "\t\t\tnet_y = np.sign(np.matmul(W.T,X_layer))\r\n",
    "\t\t\tfor i in range(len(net_y)):\r\n",
    "\t\t\t\tif net_y[i] != 0:\r\n",
    "\t\t\t\t\tY_layer[i] = int(net_y[i])\t\t\t\r\n",
    "\t\t\tnet_x = np.sign(np.matmul(W,Y_layer))\r\n",
    "\t\t\tfor i in range(len(net_x)):\r\n",
    "\t\t\t\tif net_x[i] != 0:\r\n",
    "\t\t\t\t\tX_layer[i] = net_x[i]\r\n",
    "\t\t\tfor v in s:\r\n",
    "\t\t\t\t# \r\n",
    "\t\t\t\tif (X_layer == v[0]).all() and np.array(Y_layer == v[1]).all() :\r\n",
    "\t\t\t\t\tconv=True\r\n",
    "\t\t\t\t\tbreak\r\n",
    "\t\t\tepochs-=1\r\n",
    "\telif Y_layer.any():\t\r\n",
    "\t\twhile (not conv) and epochs != 0:\r\n",
    "\t\t\tnet_x = np.sign(np.matmul(W,Y_layer))\r\n",
    "\t\t\tfor i in range(len(net_x)):\r\n",
    "\t\t\t\tif net_x[i] != 0:\r\n",
    "\t\t\t\t\tX_layer[i] = net_x[i]\r\n",
    "\t\t\tnet_y = np.sign(np.matmul(W.T,X_layer))\r\n",
    "\t\t\tfor i in range(len(net_y)):\r\n",
    "\t\t\t\tif net_y[i] != 0:\r\n",
    "\t\t\t\t\tY_layer[i] = int(net_y[i])\t\r\n",
    "\t\t\tfor v in s:\r\n",
    "\t\t\t\t# \r\n",
    "\t\t\t\tif (X_layer == v[0]).all() and np.array(Y_layer == v[1]).all() :\r\n",
    "\t\t\t\t\tconv=True\r\n",
    "\t\t\t\t\tbreak\r\n",
    "\t\t\tepochs-=1\r\n",
    "\treturn (X_layer,Y_layer,conv)"
   ]
  },
  {
   "cell_type": "code",
   "execution_count": 10,
   "metadata": {},
   "outputs": [
    {
     "name": "stdout",
     "output_type": "stream",
     "text": [
      "\tInput\t\t\toutput\n"
     ]
    },
    {
     "name": "stderr",
     "output_type": "stream",
     "text": [
      "C:\\Users\\Alireza\\anaconda3\\lib\\site-packages\\matplotlib\\text.py:1163: FutureWarning: elementwise comparison failed; returning scalar instead, but in the future will perform elementwise comparison\n",
      "  if s != self._text:\n"
     ]
    },
    {
     "data": {
      "image/png": "[encoded data removed]",
      "text/plain": "<Figure size 432x288 with 2 Axes>"
     },
     "metadata": {
      "needs_background": "light"
     },
     "output_type": "display_data"
    },
    {
     "data": {
      "image/png": "[encoded data removed]",
      "text/plain": "<Figure size 432x288 with 2 Axes>"
     },
     "metadata": {
      "needs_background": "light"
     },
     "output_type": "display_data"
    },
    {
     "name": "stdout",
     "output_type": "stream",
     "text": [
      "\tInput\t\t\toutput\n"
     ]
    },
    {
     "data": {
      "image/png": "[encoded data removed]",
      "text/plain": "<Figure size 432x288 with 2 Axes>"
     },
     "metadata": {
      "needs_background": "light"
     },
     "output_type": "display_data"
    },
    {
     "data": {
      "image/png": "[encoded data removed]",
      "text/plain": "<Figure size 432x288 with 2 Axes>"
     },
     "metadata": {
      "needs_background": "light"
     },
     "output_type": "display_data"
    },
    {
     "name": "stdout",
     "output_type": "stream",
     "text": [
      "\tInput\t\t\toutput\n"
     ]
    },
    {
     "data": {
      "image/png": "[encoded data removed]",
      "text/plain": "<Figure size 432x288 with 2 Axes>"
     },
     "metadata": {
      "needs_background": "light"
     },
     "output_type": "display_data"
    },
    {
     "data": {
      "image/png": "[encoded data removed]",
      "text/plain": "<Figure size 432x288 with 2 Axes>"
     },
     "metadata": {
      "needs_background": "light"
     },
     "output_type": "display_data"
    }
   ],
   "source": [
    "for i,v in enumerate(s[:3]):\r\n",
    "\tprint(\"\\tInput\\t\\t\\toutput\")\r\n",
    "\tplt.tight_layout()\r\n",
    "\tX_input = v[0]\r\n",
    "\tY_input = np.array([0] * 3)\r\n",
    "\tplt.subplot(221)\r\n",
    "\tplt.title(Y_input)\r\n",
    "\tplt.imshow(X_input.reshape(5,3))\r\n",
    "\tvector = BAM(X_layer_input=X_input,W=W_3)\r\n",
    "\tplt.subplot(222)\r\n",
    "\tplt.title(vector[1])\r\n",
    "\tplt.imshow(vector[0].reshape(5,3))\r\n",
    "\tplt.show()\r\n",
    "\tX_input = np.array([0] * 15)\r\n",
    "\tY_input = v[1]\r\n",
    "\tplt.subplot(223)\r\n",
    "\tplt.title(Y_input)\r\n",
    "\tplt.imshow(X_input.reshape(5,3))\r\n",
    "\tvector = BAM(Y_layer_input=Y_input,W=W_3)\r\n",
    "\tplt.subplot(224)\r\n",
    "\tplt.title(vector[1])\r\n",
    "\tplt.imshow(vector[0].reshape(5,3))\r\n",
    "\tplt.show()"
   ]
  },
  {
   "cell_type": "code",
   "execution_count": 11,
   "metadata": {},
   "outputs": [
    {
     "data": {
      "text/html": "<div>\n<style scoped>\n    .dataframe tbody tr th:only-of-type {\n        vertical-align: middle;\n    }\n\n    .dataframe tbody tr th {\n        vertical-align: top;\n    }\n\n    .dataframe thead th {\n        text-align: right;\n    }\n</style>\n<table border=\"1\" class=\"dataframe\">\n  <thead>\n    <tr style=\"text-align: right;\">\n      <th></th>\n      <th>vector</th>\n      <th>err</th>\n      <th>acc</th>\n    </tr>\n  </thead>\n  <tbody>\n    <tr>\n      <th>0</th>\n      <td>[-1, -1, -1]</td>\n      <td>0.1</td>\n      <td>100</td>\n    </tr>\n    <tr>\n      <th>1</th>\n      <td>[-1, -1, -1]</td>\n      <td>0.4</td>\n      <td>39</td>\n    </tr>\n    <tr>\n      <th>2</th>\n      <td>[-1, -1, 1]</td>\n      <td>0.1</td>\n      <td>100</td>\n    </tr>\n    <tr>\n      <th>3</th>\n      <td>[-1, -1, 1]</td>\n      <td>0.4</td>\n      <td>29</td>\n    </tr>\n    <tr>\n      <th>4</th>\n      <td>[-1, 1, -1]</td>\n      <td>0.1</td>\n      <td>100</td>\n    </tr>\n    <tr>\n      <th>5</th>\n      <td>[-1, 1, -1]</td>\n      <td>0.4</td>\n      <td>51</td>\n    </tr>\n  </tbody>\n</table>\n</div>",
      "text/plain": "         vector  err  acc\n0  [-1, -1, -1]  0.1  100\n1  [-1, -1, -1]  0.4   39\n2   [-1, -1, 1]  0.1  100\n3   [-1, -1, 1]  0.4   29\n4   [-1, 1, -1]  0.1  100\n5   [-1, 1, -1]  0.4   51"
     },
     "execution_count": 11,
     "metadata": {},
     "output_type": "execute_result"
    }
   ],
   "source": [
    "E = [0.1 , 0.4]\r\n",
    "results = []\r\n",
    "for v in s[:3]:\r\n",
    "    for err in E:  \r\n",
    "        epochs=100\r\n",
    "        acc=0\r\n",
    "        for epoch in range(epochs):\r\n",
    "            indexes = random.sample(range(len(v[0])),int(len(v[0])*err))\r\n",
    "            v_noised=v[0].copy()\r\n",
    "            for i in indexes:\r\n",
    "                v_noised[i] = v_noised[i] * -1\r\n",
    "            indexes = random.sample(range(len(v[1])),int(len(v[1])*err))\r\n",
    "            label_noised=v[1].copy()\r\n",
    "            for i in indexes:\r\n",
    "                label_noised[i] = label_noised[i] * -1\r\n",
    "            vector = BAM(X_layer_input=v_noised,Y_layer_input=label_noised,W=W_3)\r\n",
    "            if vector[2] and (v[0] == vector[0]).all() and (v[1] == vector[1]).all():\r\n",
    "                acc+=1\r\n",
    "        results.append({\r\n",
    "            \"vector\":v[1],\r\n",
    "            \"err\":err,\r\n",
    "            \"acc\":acc,\r\n",
    "        })\r\n",
    "pd.DataFrame(results)"
   ]
  },
  {
   "cell_type": "code",
   "execution_count": 12,
   "metadata": {},
   "outputs": [
    {
     "name": "stderr",
     "output_type": "stream",
     "text": [
      "C:\\Users\\Alireza\\anaconda3\\lib\\site-packages\\matplotlib\\text.py:1163: FutureWarning: elementwise comparison failed; returning scalar instead, but in the future will perform elementwise comparison\n",
      "  if s != self._text:\n"
     ]
    },
    {
     "data": {
      "image/png": "[encoded data removed]",
      "text/plain": "<Figure size 432x288 with 1 Axes>"
     },
     "metadata": {
      "needs_background": "light"
     },
     "output_type": "display_data"
    }
   ],
   "source": [
    "vector = BAM(Y_layer_input=[0,-1,-1],W=W_3)\r\n",
    "plt.title(vector[1])\r\n",
    "plt.imshow(vector[0].reshape(5,3))\r\n",
    "plt.show()"
   ]
  },
  {
   "cell_type": "code",
   "execution_count": 14,
   "metadata": {},
   "outputs": [],
   "source": [
    "W_8 = np.zeros((15,3))\r\n",
    "for v in s:\r\n",
    "    W_8 += np.matmul(v[0][np.newaxis].T,np.array(v[1])[np.newaxis]) "
   ]
  },
  {
   "cell_type": "code",
   "execution_count": 15,
   "metadata": {},
   "outputs": [
    {
     "name": "stdout",
     "output_type": "stream",
     "text": [
      "_______________________________________\n",
      "\tInput\t\t\toutput\n"
     ]
    },
    {
     "data": {
      "image/png": "[encoded data removed]",
      "text/plain": "<Figure size 432x288 with 2 Axes>"
     },
     "metadata": {
      "needs_background": "light"
     },
     "output_type": "display_data"
    },
    {
     "data": {
      "image/png": "[encoded data removed]",
      "text/plain": "<Figure size 432x288 with 2 Axes>"
     },
     "metadata": {
      "needs_background": "light"
     },
     "output_type": "display_data"
    },
    {
     "name": "stdout",
     "output_type": "stream",
     "text": [
      "_______________________________________\n",
      "\tInput\t\t\toutput\n"
     ]
    },
    {
     "data": {
      "image/png": "[encoded data removed]",
      "text/plain": "<Figure size 432x288 with 2 Axes>"
     },
     "metadata": {
      "needs_background": "light"
     },
     "output_type": "display_data"
    },
    {
     "data": {
      "image/png": "[encoded data removed]",
      "text/plain": "<Figure size 432x288 with 2 Axes>"
     },
     "metadata": {
      "needs_background": "light"
     },
     "output_type": "display_data"
    },
    {
     "name": "stdout",
     "output_type": "stream",
     "text": [
      "_______________________________________\n",
      "\tInput\t\t\toutput\n"
     ]
    },
    {
     "data": {
      "image/png": "[encoded data removed]",
      "text/plain": "<Figure size 432x288 with 2 Axes>"
     },
     "metadata": {
      "needs_background": "light"
     },
     "output_type": "display_data"
    },
    {
     "data": {
      "image/png": "[encoded data removed]",
      "text/plain": "<Figure size 432x288 with 2 Axes>"
     },
     "metadata": {
      "needs_background": "light"
     },
     "output_type": "display_data"
    },
    {
     "name": "stdout",
     "output_type": "stream",
     "text": [
      "_______________________________________\n",
      "\tInput\t\t\toutput\n"
     ]
    },
    {
     "data": {
      "image/png": "[encoded data removed]",
      "text/plain": "<Figure size 432x288 with 2 Axes>"
     },
     "metadata": {
      "needs_background": "light"
     },
     "output_type": "display_data"
    },
    {
     "data": {
      "image/png": "[encoded data removed]",
      "text/plain": "<Figure size 432x288 with 2 Axes>"
     },
     "metadata": {
      "needs_background": "light"
     },
     "output_type": "display_data"
    },
    {
     "name": "stdout",
     "output_type": "stream",
     "text": [
      "_______________________________________\n",
      "\tInput\t\t\toutput\n"
     ]
    },
    {
     "data": {
      "image/png": "[encoded data removed]",
      "text/plain": "<Figure size 432x288 with 2 Axes>"
     },
     "metadata": {
      "needs_background": "light"
     },
     "output_type": "display_data"
    },
    {
     "data": {
      "image/png": "[encoded data removed]",
      "text/plain": "<Figure size 432x288 with 2 Axes>"
     },
     "metadata": {
      "needs_background": "light"
     },
     "output_type": "display_data"
    },
    {
     "name": "stdout",
     "output_type": "stream",
     "text": [
      "Not Converged\n",
      "_______________________________________\n",
      "\tInput\t\t\toutput\n"
     ]
    },
    {
     "data": {
      "image/png": "[encoded data removed]",
      "text/plain": "<Figure size 432x288 with 2 Axes>"
     },
     "metadata": {
      "needs_background": "light"
     },
     "output_type": "display_data"
    },
    {
     "data": {
      "image/png": "[encoded data removed]",
      "text/plain": "<Figure size 432x288 with 2 Axes>"
     },
     "metadata": {
      "needs_background": "light"
     },
     "output_type": "display_data"
    },
    {
     "name": "stdout",
     "output_type": "stream",
     "text": [
      "Not Converged\n",
      "_______________________________________\n",
      "\tInput\t\t\toutput\n"
     ]
    },
    {
     "data": {
      "image/png": "[encoded data removed]",
      "text/plain": "<Figure size 432x288 with 2 Axes>"
     },
     "metadata": {
      "needs_background": "light"
     },
     "output_type": "display_data"
    },
    {
     "data": {
      "image/png": "[encoded data removed]",
      "text/plain": "<Figure size 432x288 with 2 Axes>"
     },
     "metadata": {
      "needs_background": "light"
     },
     "output_type": "display_data"
    },
    {
     "name": "stdout",
     "output_type": "stream",
     "text": [
      "Not Converged\n",
      "_______________________________________\n",
      "\tInput\t\t\toutput\n"
     ]
    },
    {
     "data": {
      "image/png": "[encoded data removed]",
      "text/plain": "<Figure size 432x288 with 2 Axes>"
     },
     "metadata": {
      "needs_background": "light"
     },
     "output_type": "display_data"
    },
    {
     "data": {
      "image/png": "[encoded data removed]",
      "text/plain": "<Figure size 432x288 with 2 Axes>"
     },
     "metadata": {
      "needs_background": "light"
     },
     "output_type": "display_data"
    },
    {
     "name": "stdout",
     "output_type": "stream",
     "text": [
      "Not Converged\n"
     ]
    }
   ],
   "source": [
    "for i,v in enumerate(s):\r\n",
    "\tprint(\"_______________________________________\")\r\n",
    "\tprint(\"\\tInput\\t\\t\\toutput\")\r\n",
    "\tplt.tight_layout()\r\n",
    "\tX_input = v[0]\r\n",
    "\tY_input = np.array([0] * 3)\r\n",
    "\tplt.subplot(221)\r\n",
    "\tplt.title(Y_input)\r\n",
    "\tplt.imshow(X_input.reshape(5,3))\r\n",
    "\tvector = BAM(X_layer_input=X_input,W=W_3)\r\n",
    "\tplt.subplot(222)\r\n",
    "\tplt.title(vector[1])\r\n",
    "\tplt.imshow(vector[0].reshape(5,3))\r\n",
    "\tplt.show()\r\n",
    "\tif not vector[2]:\r\n",
    "\t\tprint(\"Not Converged\")\r\n",
    "\tX_input = np.array([0] * 15)\r\n",
    "\tY_input = v[1]\r\n",
    "\tplt.subplot(223)\r\n",
    "\tplt.title(Y_input)\r\n",
    "\tplt.imshow(X_input.reshape(5,3))\r\n",
    "\tvector = BAM(Y_layer_input=Y_input,W=W_3)\r\n",
    "\tplt.subplot(224)\r\n",
    "\tplt.title(vector[1])\r\n",
    "\tplt.imshow(vector[0].reshape(5,3))\r\n",
    "\tplt.show()\r\n",
    "\tif not vector[2]:\r\n",
    "\t\tprint(\"Not Converged\")"
   ]
  },
  {
   "cell_type": "markdown",
   "metadata": {},
   "source": [
    "# Haming"
   ]
  },
  {
   "cell_type": "code",
   "execution_count": 16,
   "metadata": {},
   "outputs": [],
   "source": [
    "haming = np.zeros(64).reshape(8,8)\r\n",
    "for i in range(len(s)):\r\n",
    "    for j in range(i,len(s)):\r\n",
    "        haming[i][j] = haming[j][i] = np.array((s[i][0] != s[j][0])).sum()"
   ]
  },
  {
   "cell_type": "code",
   "execution_count": 28,
   "metadata": {},
   "outputs": [
    {
     "data": {
      "text/html": "<div>\n<style scoped>\n    .dataframe tbody tr th:only-of-type {\n        vertical-align: middle;\n    }\n\n    .dataframe tbody tr th {\n        vertical-align: top;\n    }\n\n    .dataframe thead th {\n        text-align: right;\n    }\n</style>\n<table border=\"1\" class=\"dataframe\">\n  <thead>\n    <tr style=\"text-align: right;\">\n      <th></th>\n      <th>A</th>\n      <th>B</th>\n      <th>C</th>\n      <th>D</th>\n      <th>E</th>\n      <th>F</th>\n      <th>G</th>\n      <th>H</th>\n    </tr>\n  </thead>\n  <tbody>\n    <tr>\n      <th>0</th>\n      <td>35.0</td>\n      <td>33.0</td>\n      <td>39.0</td>\n      <td>35.0</td>\n      <td>31.0</td>\n      <td>35.0</td>\n      <td>37.0</td>\n      <td>37.0</td>\n    </tr>\n  </tbody>\n</table>\n</div>",
      "text/plain": "      A     B     C     D     E     F     G     H\n0  35.0  33.0  39.0  35.0  31.0  35.0  37.0  37.0"
     },
     "execution_count": 28,
     "metadata": {},
     "output_type": "execute_result"
    }
   ],
   "source": [
    "pd.DataFrame(np.array(pd.DataFrame(haming,index=[\"A\",\"B\",\"C\",\"D\",\"E\",\"F\",\"G\",\"H\"],columns=[\"A\",\"B\",\"C\",\"D\",\"E\",\"F\",\"G\",\"H\"]).sum())[np.newaxis],columns=[\"A\",\"B\",\"C\",\"D\",\"E\",\"F\",\"G\",\"H\"])"
   ]
  },
  {
   "cell_type": "code",
   "execution_count": null,
   "metadata": {},
   "outputs": [],
   "source": []
  }
 ],
 "metadata": {
  "kernelspec": {
   "name": "pycharm-a1d1de95",
   "language": "python",
   "display_name": "PyCharm (HW3_Mohseni_810199259)"
  },
  "language_info": {
   "codemirror_mode": {
    "name": "ipython",
    "version": 3
   },
   "file_extension": ".py",
   "mimetype": "text/x-python",
   "name": "python",
   "nbconvert_exporter": "python",
   "pygments_lexer": "ipython3",
   "version": "3.8.5"
  },
  "metadata": {
   "interpreter": {
    "hash": "d75f9f4f678c908509ce38fa04ddbf32fdfcdc2649295be0024fc2b0ee0e4703"
   }
  },
  "orig_nbformat": 2
 },
 "nbformat": 4,
 "nbformat_minor": 2
}