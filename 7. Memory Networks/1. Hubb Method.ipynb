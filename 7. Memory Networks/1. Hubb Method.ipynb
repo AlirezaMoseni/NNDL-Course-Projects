{
 "cells": [
  {
   "cell_type": "code",
   "execution_count": 2,
   "metadata": {},
   "outputs": [],
   "source": [
    "import numpy as np\n",
    "import random"
   ]
  },
  {
   "cell_type": "markdown",
   "metadata": {},
   "source": [
    "# initialize vectors"
   ]
  },
  {
   "cell_type": "code",
   "execution_count": 3,
   "metadata": {},
   "outputs": [],
   "source": [
    "A=np.array([-1,-1,-1,1,-1,-1,-1,-1,-1,-1,1,-1,-1,-1,-1,-1,-1,1,-1,-1,-1,-1,-1,1,-1,1,-1,-1,-1,-1,1,-1,1,-1,-1,-1,1,1,1,1,1,-1,-1,1,-1,-1,-1,1,-1,-1,1,-1,-1,-1,1,-1,1,1,1,-1,1,1,1])[np.newaxis]\n",
    "a=np.array([-1,1,-1,1,-1,1,1,1,1,1,-1,1,1,-1,1])[np.newaxis]\n",
    "\n",
    "B=np.array([1,1,1,1,1,1,1,1,-1,-1,-1,-1,-1,1,1,-1,-1,-1,-1,1,-1,1,-1,-1,-1,1,-1,-1,1,1,1,1,-1,-1,-1,1,-1,-1,-1,1,-1,-1,1,-1,-1,-1,-1,1,-1,1,-1,-1,-1,-1,-1,1,1,1,1,1,1,1,1])[np.newaxis]\n",
    "b=np.array([1,1,-1,1,-1,1,1,1,-1,1,-1,1,1,1,-1])[np.newaxis]\n",
    "\n",
    "C=np.array([-1,-1,1,1,1,1,-1,-1,1,-1,-1,-1,-1,1,1,-1,-1,-1,-1,-1,-1,1,-1,-1,-1,-1,-1,-1,1,-1,-1,-1,-1,-1,-1,1,-1,-1,-1,-1,-1,-1,1,-1,-1,-1,-1,-1,-1,-1,1,-1,-1,-1,-1,1,-1,-1,1,1,1,1,-1])[np.newaxis]\n",
    "c=np.array([-1,1,1,1,-1,-1,1,-1,-1,1,-1,-1,-1,1,1])[np.newaxis]\n",
    "\n",
    "S=[A,B,C]\n",
    "T=[a,b,c]\n",
    "W = np.zeros((15,63))"
   ]
  },
  {
   "cell_type": "markdown",
   "metadata": {},
   "source": [
    "# Check Conditions for heb learning"
   ]
  },
  {
   "cell_type": "code",
   "execution_count": 4,
   "metadata": {},
   "outputs": [
    {
     "name": "stdout",
     "output_type": "stream",
     "text": [
      "Condition is satisfied\n"
     ]
    }
   ],
   "source": [
    "f=1\n",
    "for i in range(len(S)):\n",
    "    for j in range(i+1,len(S)):\n",
    "        if np.matmul(S[i],S[j].T)<0:\n",
    "            f=0\n",
    "            break\n",
    "if(f==1):\n",
    "    print(\"Condition is satisfied\")\n",
    "else:\n",
    "    print(\"Condition is not satisfied\")"
   ]
  },
  {
   "cell_type": "markdown",
   "metadata": {},
   "source": [
    "# Heb learning"
   ]
  },
  {
   "cell_type": "code",
   "execution_count": 5,
   "metadata": {},
   "outputs": [
    {
     "data": {
      "text/plain": "(15, 63)"
     },
     "execution_count": 5,
     "metadata": {},
     "output_type": "execute_result"
    }
   ],
   "source": [
    "for i in range(len(S)):\n",
    "    W = np.matmul(T[i].T,S[i]) + W\n",
    "W.shape"
   ]
  },
  {
   "cell_type": "markdown",
   "metadata": {},
   "source": [
    "# Add noise to input vector and test it for 1000 times"
   ]
  },
  {
   "cell_type": "code",
   "execution_count": 12,
   "metadata": {},
   "outputs": [],
   "source": [
    "#Make noise\r\n",
    "count_25 = 0\r\n",
    "count_10 = 0\r\n",
    "for c in range(1000): \r\n",
    "\tindexes_16 = random.sample(range(63), 16)\r\n",
    "\tindexes_10 = random.sample(range(63), 6)\r\n",
    "\tS_25_noised = []\r\n",
    "\tS_10_mistake = []\r\n",
    "\tfor s in S:\r\n",
    "\t\ts_temp=s.copy()\r\n",
    "\t\tfor i in indexes_16:\r\n",
    "\t\t\ts_temp[0][i] *= -1\r\n",
    "\t\tS_25_noised.append(np.array(s_temp))\r\n",
    "\t\ts_temp=s.copy()\r\n",
    "\t\tfor i in indexes_10:\r\n",
    "\t\t\ts_temp[0][i]=0\r\n",
    "\t\tS_10_mistake.append(np.array(s_temp))    \r\n",
    "\r\n",
    "\t#check\r\n",
    "\tfor i in range(len(S_25_noised)):\r\n",
    "\t\tif (np.sign(np.matmul(W,S_25_noised[i].T)) == T[i].T).all():\r\n",
    "\t\t\tcount_25 += 1\r\n",
    "\r\n",
    "\tfor i in range(len(S_10_mistake)):\r\n",
    "\t\tif (np.sign(np.matmul(W,S_10_mistake[i].T)) == T[i].T).all():\r\n",
    "\t\t\tcount_10 += 1"
   ]
  },
  {
   "cell_type": "markdown",
   "metadata": {},
   "source": [
    "# Results"
   ]
  },
  {
   "cell_type": "code",
   "execution_count": 10,
   "metadata": {},
   "outputs": [
    {
     "name": "stdout",
     "output_type": "stream",
     "text": [
      "accuracy of 25% noised: 94.53333333333333 %\n",
      "accuracy of 10% vanished: 100.0 %\n"
     ]
    }
   ],
   "source": [
    "print(\"accuracy of 25% noised:\",count_25/3000*100,\"%\")\n",
    "print(\"accuracy of 10% vanished:\",count_10/3000*100,\"%\")"
   ]
  }
 ],
 "metadata": {
  "kernelspec": {
   "display_name": "Python 3.8.5 64-bit ('base': conda)",
   "name": "python385jvsc74a57bd094b341dfb60215d4c85cb7be03de3590278e332c5938839f8490c2b0d3d624ef"
  },
  "language_info": {
   "codemirror_mode": {
    "name": "ipython",
    "version": 3
   },
   "file_extension": ".py",
   "mimetype": "text/x-python",
   "name": "python",
   "nbconvert_exporter": "python",
   "pygments_lexer": "ipython3",
   "version": "3.8.5"
  },
  "metadata": {
   "interpreter": {
    "hash": "d75f9f4f678c908509ce38fa04ddbf32fdfcdc2649295be0024fc2b0ee0e4703"
   }
  },
  "orig_nbformat": 2
 },
 "nbformat": 4,
 "nbformat_minor": 2
}