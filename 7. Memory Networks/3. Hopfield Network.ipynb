{
 "cells": [
  {
   "cell_type": "code",
   "execution_count": 1,
   "metadata": {},
   "outputs": [],
   "source": [
    "import numpy as np\r\n",
    "import random\r\n",
    "import matplotlib.pyplot as plt\r\n",
    "import seaborn as sns"
   ]
  },
  {
   "cell_type": "code",
   "execution_count": 2,
   "metadata": {},
   "outputs": [
    {
     "data": {
      "image/png": "[encoded data removed]",
      "text/plain": [
       "<Figure size 432x288 with 1 Axes>"
      ]
     },
     "metadata": {
      "needs_background": "light"
     },
     "output_type": "display_data"
    },
    {
     "data": {
      "image/png": "[encoded data removed]",
      "text/plain": [
       "<Figure size 432x288 with 1 Axes>"
      ]
     },
     "metadata": {
      "needs_background": "light"
     },
     "output_type": "display_data"
    }
   ],
   "source": [
    "# #initiate\r\n",
    "# zero = [1,1,1,1,1,1,1,1,1,1,1,1,1,1,1,1,1,1,-1,-1,-1,-1,1,1,1,1,-1,-1,-1,-1,1,1,1,1,-1,-1,-1,-1,1,1,1,1,-1,-1,-1,-1,1,1,1,1,1,1,1,1,1,1,1,1,1,1,1,1,1,1]\r\n",
    "# one = [-1,-1,1,1,1,-1,-1,-1,-1,-1,1,1,1,-1,-1,-1,-1,-1,-1,1,1,-1,-1,-1,-1,-1,-1,1,1,-1,-1,-1,-1,-1,-1,1,1,-1,-1,-1,-1,-1,-1,1,1,-1,-1,-1,-1,-1,-1,1,1,-1,-1,-1,-1,-1,-1,1,1,-1,-1,-1]\r\n",
    "# s=[(np.array(zero),0) , (np.array(one),1)]\r\n",
    "s=[[1,-1,-1,1]]\r\n",
    "for v in s:\r\n",
    "    plt.imshow(v[0].reshape(8,8))\r\n",
    "    plt.show()"
   ]
  },
  {
   "cell_type": "code",
   "execution_count": 4,
   "metadata": {},
   "outputs": [
    {
     "name": "stdout",
     "output_type": "stream",
     "text": [
      "Haming Distance: 46\n"
     ]
    }
   ],
   "source": [
    "#Calculate Haming Distance\r\n",
    "h_distance = (s[0][0] != s[1][0]).sum()\r\n",
    "print(\"Haming Distance:\",h_distance)"
   ]
  },
  {
   "cell_type": "code",
   "execution_count": 7,
   "metadata": {},
   "outputs": [],
   "source": [
    "#learning\r\n",
    "W = np.zeros((64,64))\r\n",
    "for v in s:\r\n",
    "    W = np.matmul(v[0][np.newaxis].T,v[0][np.newaxis]) + W\r\n",
    "W = W-np.diag(np.full(64,len(s)))"
   ]
  },
  {
   "cell_type": "code",
   "execution_count": 8,
   "metadata": {},
   "outputs": [
    {
     "data": {
      "image/png": "[encoded data removed]",
      "text/plain": [
       "<Figure size 432x288 with 1 Axes>"
      ]
     },
     "metadata": {
      "needs_background": "light"
     },
     "output_type": "display_data"
    },
    {
     "data": {
      "image/png": "[encoded data removed]",
      "text/plain": [
       "<Figure size 432x288 with 1 Axes>"
      ]
     },
     "metadata": {
      "needs_background": "light"
     },
     "output_type": "display_data"
    }
   ],
   "source": [
    "#make noised inputs\r\n",
    "s_noised = []\r\n",
    "for v in s:\r\n",
    "    v_temp = v[0].copy()\r\n",
    "    noise_index = random.sample(range(len(v_temp)),int(len(v_temp)*0.3))\r\n",
    "    for i in noise_index:\r\n",
    "        v_temp[i] = v_temp[i] * -1\r\n",
    "    s_noised.append((v_temp,v[1]))\r\n",
    "    plt.imshow(v_temp.reshape(8,8))\r\n",
    "    plt.show()"
   ]
  },
  {
   "cell_type": "code",
   "execution_count": 17,
   "metadata": {},
   "outputs": [
    {
     "data": {
      "image/png": "[encoded data removed]",
      "text/plain": [
       "<Figure size 432x288 with 2 Axes>"
      ]
     },
     "metadata": {
      "needs_background": "light"
     },
     "output_type": "display_data"
    },
    {
     "data": {
      "image/png": "[encoded data removed]",
      "text/plain": [
       "<Figure size 432x288 with 2 Axes>"
      ]
     },
     "metadata": {
      "needs_background": "light"
     },
     "output_type": "display_data"
    }
   ],
   "source": [
    "#find outputs\r\n",
    "conv = False\r\n",
    "while not conv:\r\n",
    "\toutputs=[]\r\n",
    "\tfor v in s_noised:\r\n",
    "\t\tinput_vector=v[0].copy()\r\n",
    "\t\toutput_vector = input_vector.copy()\r\n",
    "\t\trandom_order = random.sample(range(len(output_vector)),len(output_vector))\r\n",
    "\t\tfor i in random_order:\r\n",
    "\t\t\tnet = input_vector[i] + np.matmul(output_vector,W[:,i])\r\n",
    "\t\t\tif net != 0 :\r\n",
    "\t\t\t\toutput_vector[i] = np.sign(net)\r\n",
    "\t\tfor vector in s:\r\n",
    "\t\t\tif (output_vector == vector[0]).all():\r\n",
    "\t\t\t\toutputs.append((v[0],vector[0]))\t\t\t\r\n",
    "\tif(len(outputs)==len(s_noised)):\r\n",
    "\t\tconv=True\r\n",
    "for output in outputs:\r\n",
    "\tplt.subplot(121)\r\n",
    "\tplt.imshow(output[0].reshape(8,8))\r\n",
    "\tplt.subplot(122)\r\n",
    "\tplt.imshow(output[1].reshape(8,8))\r\n",
    "\tplt.show()"
   ]
  }
 ],
 "metadata": {
  "kernelspec": {
   "display_name": "Python 3.8.5 64-bit ('base': conda)",
   "name": "python385jvsc74a57bd094b341dfb60215d4c85cb7be03de3590278e332c5938839f8490c2b0d3d624ef"
  },
  "language_info": {
   "codemirror_mode": {
    "name": "ipython",
    "version": 3
   },
   "file_extension": ".py",
   "mimetype": "text/x-python",
   "name": "python",
   "nbconvert_exporter": "python",
   "pygments_lexer": "ipython3",
   "version": "3.8.5"
  },
  "orig_nbformat": 2
 },
 "nbformat": 4,
 "nbformat_minor": 2
}