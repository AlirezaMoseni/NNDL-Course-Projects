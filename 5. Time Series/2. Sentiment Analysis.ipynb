{
  "nbformat": 4,
  "nbformat_minor": 0,
  "metadata": {
    "colab": {
      "name": "mp2_q3.ipynb",
      "provenance": [],
      "collapsed_sections": []
    },
    "kernelspec": {
      "name": "python3",
      "display_name": "Python 3"
    },
    "language_info": {
      "name": "python"
    },
    "accelerator": "GPU"
  },
  "cells": [
    {
      "cell_type": "code",
      "metadata": {
        "colab": {
          "base_uri": "https://localhost:8080/"
        },
        "id": "7o6AeD10Euqp",
        "outputId": "b97f968d-cff1-4c92-bc5d-6c42c47e2026"
      },
      "source": [
        "from __future__ import print_function\n",
        "import numpy as np\n",
        "import pandas as pd\n",
        "!pip install tweet-preprocessor\n",
        "import preprocessor as prep\n",
        "import re\n",
        "import string\n",
        "from keras.preprocessing.text import text_to_word_sequence\n",
        "\n",
        "from keras.preprocessing import sequence\n",
        "from keras.models import Sequential\n",
        "from keras.layers import Dense, Dropout, Embedding, LSTM, Bidirectional\n",
        "from sklearn.model_selection import train_test_split\n",
        "from imblearn.over_sampling import RandomOverSampler\n",
        "\n",
        "import matplotlib.pyplot as plt\n",
        "\n",
        "import nltk\n",
        "nltk.download('stopwords')\n",
        "from nltk.corpus import stopwords\n",
        "from nltk.tokenize.casual import TweetTokenizer\n",
        "tokenizer = TweetTokenizer()\n",
        "from bs4 import BeautifulSoup\n",
        "\n",
        "\n"
      ],
      "execution_count": 1,
      "outputs": [
        {
          "output_type": "stream",
          "text": [
            "Collecting tweet-preprocessor\n",
            "  Downloading https://files.pythonhosted.org/packages/17/9d/71bd016a9edcef8860c607e531f30bd09b13103c7951ae73dd2bf174163c/tweet_preprocessor-0.6.0-py3-none-any.whl\n",
            "Installing collected packages: tweet-preprocessor\n",
            "Successfully installed tweet-preprocessor-0.6.0\n"
          ],
          "name": "stdout"
        },
        {
          "output_type": "stream",
          "text": [
            "/usr/local/lib/python3.7/dist-packages/sklearn/externals/six.py:31: FutureWarning: The module is deprecated in version 0.21 and will be removed in version 0.23 since we've dropped support for Python 2.7. Please rely on the official version of six (https://pypi.org/project/six/).\n",
            "  \"(https://pypi.org/project/six/).\", FutureWarning)\n",
            "/usr/local/lib/python3.7/dist-packages/sklearn/utils/deprecation.py:144: FutureWarning: The sklearn.neighbors.base module is  deprecated in version 0.22 and will be removed in version 0.24. The corresponding classes / functions should instead be imported from sklearn.neighbors. Anything that cannot be imported from sklearn.neighbors is now part of the private API.\n",
            "  warnings.warn(message, FutureWarning)\n"
          ],
          "name": "stderr"
        },
        {
          "output_type": "stream",
          "text": [
            "[nltk_data] Downloading package stopwords to /root/nltk_data...\n",
            "[nltk_data]   Unzipping corpora/stopwords.zip.\n"
          ],
          "name": "stdout"
        }
      ]
    },
    {
      "cell_type": "code",
      "metadata": {
        "id": "GbgK1TlxE_MP"
      },
      "source": [
        "def preprocess_df(in_df):\n",
        "\n",
        "  prep.set_options(prep.OPT.URL, prep.OPT.MENTION,prep.OPT.EMOJI)\n",
        "\n",
        "\n",
        "  stopset = set(stopwords.words(\"english\"))\n",
        "  filter_word = lambda w:w not in stopset\n",
        "\n",
        "  for index , row in in_df.iterrows():\n",
        "\n",
        "    temp_text = row['text']\n",
        "\n",
        "    temp_text = prep.clean(row['text'])\n",
        "\n",
        "    temp_text = temp_text.lower()\n",
        "\n",
        "    temp_text = BeautifulSoup(temp_text, 'lxml').get_text()\n",
        "\n",
        "\n",
        "    temp_text = tokenizer.tokenize(temp_text)\n",
        "    temp_text = list(filter(filter_word,temp_text))\n",
        "    temp_text = ' '.join(temp_text)\n",
        "\n",
        "    temp_text = temp_text.translate(str.maketrans('', '', string.punctuation))\n",
        "\n",
        "    temp_text = re.sub('[\\d|\\@|\\$|\\%|\\&|\\*]+','',temp_text)\n",
        "\n",
        "    in_df.loc[index,'text'] = temp_text\n",
        "    \n",
        "  return in_df  "
      ],
      "execution_count": 2,
      "outputs": []
    },
    {
      "cell_type": "markdown",
      "metadata": {
        "id": "ukVXV5SKpsY3"
      },
      "source": [
        "#Balanced Data"
      ]
    },
    {
      "cell_type": "code",
      "metadata": {
        "colab": {
          "base_uri": "https://localhost:8080/"
        },
        "id": "j-Z8oRe5E_MZ",
        "outputId": "e11b3950-39dc-4dea-d94a-c73eb9c67abc"
      },
      "source": [
        "df_1 = pd.read_csv(\"/content/drive/MyDrive/nndl/mp2/sentiment_final.csv\")\n",
        "df_1.sentiment[df_1.sentiment == 'Positive'] = 1\n",
        "df_1.sentiment[df_1.sentiment == 'Negative'] = 0\n",
        "\n",
        "ros = RandomOverSampler(random_state=777)\n",
        "df_balanced = pd.DataFrame(df_1.text, columns=['text'])\n",
        "X_ROS, y_ROS = ros.fit_sample(df_balanced, df_1.sentiment)\n",
        "df_balanced = pd.DataFrame(X_ROS,columns=['text'])\n",
        "df_balanced['sentiment'] = y_ROS\n",
        "\n",
        "df = preprocess_df(df_balanced.copy())"
      ],
      "execution_count": 3,
      "outputs": [
        {
          "output_type": "stream",
          "text": [
            "/usr/local/lib/python3.7/dist-packages/imblearn/utils/_validation.py:93: UserWarning: 'y' should be of types ('binary', 'multiclass', 'multilabel-indicator') only. Got unknown instead.\n",
            "  TARGET_KIND, type_of_target(y)))\n",
            "/usr/local/lib/python3.7/dist-packages/sklearn/utils/deprecation.py:87: FutureWarning: Function safe_indexing is deprecated; safe_indexing is deprecated in version 0.22 and will be removed in version 0.24.\n",
            "  warnings.warn(msg, category=FutureWarning)\n"
          ],
          "name": "stderr"
        }
      ]
    },
    {
      "cell_type": "markdown",
      "metadata": {
        "id": "bJ1hkenQpy7n"
      },
      "source": [
        "#Text to Sequence"
      ]
    },
    {
      "cell_type": "code",
      "metadata": {
        "id": "4AFgqs_IFeH9"
      },
      "source": [
        "total_words = []\n",
        "for i , r in df.iterrows():\n",
        "  tweet_words = text_to_word_sequence(r.text, filters='', lower=True, split=' ')\n",
        "  total_words +=tweet_words\n",
        "vocab = set(total_words)\n",
        "word_to_index ={}\n",
        "j=0\n",
        "for word in vocab:\n",
        "  word_to_index[word]=j\n",
        "  j +=1\n"
      ],
      "execution_count": 4,
      "outputs": []
    },
    {
      "cell_type": "code",
      "metadata": {
        "id": "mIWVjQw_KTSt"
      },
      "source": [
        "for i , r in df.iterrows():\n",
        "  tweet_words = text_to_word_sequence(r.text, filters='', lower=True, split=' ')\n",
        "  df.text.iloc[i]=[word_to_index.get(key) for key in tweet_words]"
      ],
      "execution_count": 5,
      "outputs": []
    },
    {
      "cell_type": "code",
      "metadata": {
        "colab": {
          "base_uri": "https://localhost:8080/",
          "height": 204
        },
        "id": "jOCWmwfhKp_n",
        "outputId": "be483188-96ec-40d1-f865-9be62a34256f"
      },
      "source": [
        "df.head()"
      ],
      "execution_count": 6,
      "outputs": [
        {
          "output_type": "execute_result",
          "data": {
            "text/html": [
              "<div>\n",
              "<style scoped>\n",
              "    .dataframe tbody tr th:only-of-type {\n",
              "        vertical-align: middle;\n",
              "    }\n",
              "\n",
              "    .dataframe tbody tr th {\n",
              "        vertical-align: top;\n",
              "    }\n",
              "\n",
              "    .dataframe thead th {\n",
              "        text-align: right;\n",
              "    }\n",
              "</style>\n",
              "<table border=\"1\" class=\"dataframe\">\n",
              "  <thead>\n",
              "    <tr style=\"text-align: right;\">\n",
              "      <th></th>\n",
              "      <th>text</th>\n",
              "      <th>sentiment</th>\n",
              "    </tr>\n",
              "  </thead>\n",
              "  <tbody>\n",
              "    <tr>\n",
              "      <th>0</th>\n",
              "      <td>[8426, 4314, 4617, 7228, 2829, 3489, 3711, 405...</td>\n",
              "      <td>1</td>\n",
              "    </tr>\n",
              "    <tr>\n",
              "      <th>1</th>\n",
              "      <td>[8426, 2724, 4146, 2152, 3316, 2185, 7956, 101...</td>\n",
              "      <td>1</td>\n",
              "    </tr>\n",
              "    <tr>\n",
              "      <th>2</th>\n",
              "      <td>[8426, 7228, 69, 3256, 7292, 5090, 3454, 7260,...</td>\n",
              "      <td>1</td>\n",
              "    </tr>\n",
              "    <tr>\n",
              "      <th>3</th>\n",
              "      <td>[8426, 7388, 4894, 2988, 1419, 8236, 9758, 750...</td>\n",
              "      <td>1</td>\n",
              "    </tr>\n",
              "    <tr>\n",
              "      <th>4</th>\n",
              "      <td>[8426, 9390, 2189, 1105, 8789, 7726, 5115, 722...</td>\n",
              "      <td>0</td>\n",
              "    </tr>\n",
              "  </tbody>\n",
              "</table>\n",
              "</div>"
            ],
            "text/plain": [
              "                                                text sentiment\n",
              "0  [8426, 4314, 4617, 7228, 2829, 3489, 3711, 405...         1\n",
              "1  [8426, 2724, 4146, 2152, 3316, 2185, 7956, 101...         1\n",
              "2  [8426, 7228, 69, 3256, 7292, 5090, 3454, 7260,...         1\n",
              "3  [8426, 7388, 4894, 2988, 1419, 8236, 9758, 750...         1\n",
              "4  [8426, 9390, 2189, 1105, 8789, 7726, 5115, 722...         0"
            ]
          },
          "metadata": {
            "tags": []
          },
          "execution_count": 6
        }
      ]
    },
    {
      "cell_type": "code",
      "metadata": {
        "colab": {
          "base_uri": "https://localhost:8080/"
        },
        "id": "71eBZkYUrO-V",
        "outputId": "d59f93f8-1692-4db8-ad06-62cf9e60b0db"
      },
      "source": [
        "len(df[df.sentiment==0])"
      ],
      "execution_count": 8,
      "outputs": [
        {
          "output_type": "execute_result",
          "data": {
            "text/plain": [
              "8493"
            ]
          },
          "metadata": {
            "tags": []
          },
          "execution_count": 8
        }
      ]
    },
    {
      "cell_type": "code",
      "metadata": {
        "colab": {
          "base_uri": "https://localhost:8080/"
        },
        "id": "wbhZq1KSrWzE",
        "outputId": "883fe1e5-bb74-4f1c-f7e6-b10c336b0281"
      },
      "source": [
        "len(df[df.sentiment==1])\n"
      ],
      "execution_count": 54,
      "outputs": [
        {
          "output_type": "execute_result",
          "data": {
            "text/plain": [
              "8493"
            ]
          },
          "metadata": {
            "tags": []
          },
          "execution_count": 54
        }
      ]
    },
    {
      "cell_type": "markdown",
      "metadata": {
        "id": "sRY1_0T8c57r"
      },
      "source": [
        "#Choose Batch Size"
      ]
    },
    {
      "cell_type": "code",
      "metadata": {
        "colab": {
          "base_uri": "https://localhost:8080/"
        },
        "id": "Jfh8-U1DroUQ",
        "outputId": "7d4219ea-4410-4400-cf24-7f6b7cef9a84"
      },
      "source": [
        "for batch_size in [4,8,16,32,64,128]:\n",
        "  max_features = len(word_to_index)\n",
        "\n",
        "  maxlen = df.text.map(lambda x:len(x)).max()\n",
        "\n",
        "\n",
        "  x_train, x_test, y_train, y_test = train_test_split(df['text'], \n",
        "                                                      df['sentiment'], \n",
        "                                                      random_state=1375, \n",
        "                                                      test_size=0.2, \n",
        "                                                      stratify=df['sentiment'])\n",
        "  \n",
        "  print('Pad sequences (samples x time)')\n",
        "  x_train = sequence.pad_sequences(x_train, maxlen=maxlen)\n",
        "  x_test = sequence.pad_sequences(x_test, maxlen=maxlen)\n",
        "\n",
        "  print('x_train shape:', x_train.shape)\n",
        "  print('x_test shape:', x_test.shape)\n",
        "\n",
        "\n",
        "  y_train = np.array(y_train)\n",
        "  y_test = np.array(y_test)\n",
        "\n",
        "  y_train = y_train.astype('int32')\n",
        "  y_test = y_test.astype('int32')\n",
        "\n",
        "  model = Sequential()\n",
        "  model.add(Embedding(max_features, maxlen, input_length=maxlen))\n",
        "  model.add(Bidirectional(LSTM(64)))\n",
        "  model.add(Dropout(0.3))\n",
        "  model.add(Dense(1, activation='sigmoid'))\n",
        "\n",
        "  model.compile('adam', 'binary_crossentropy', metrics=['accuracy'])\n",
        "\n",
        "  print('Train...')\n",
        "  hist = model.fit(x_train, y_train,batch_size=batch_size,epochs=10,validation_split=0.125)\n",
        "\n",
        "\n",
        "  true_label = y_test\n",
        "  predicted_label = model.predict_classes(x_test)\n",
        "  predicted_label = predicted_label.reshape(1,len(predicted_label))\n",
        "  predicted_label = predicted_label[0]\n",
        "\n",
        "  accuracy = accuracy_score(true_label, predicted_label)\n",
        "\n",
        "  print('Accuracy = ',batch_size,'\\t',round(accuracy,5),'\\n')"
      ],
      "execution_count": 25,
      "outputs": [
        {
          "output_type": "stream",
          "text": [
            "Pad sequences (samples x time)\n",
            "x_train shape: (13588, 25)\n",
            "x_test shape: (3398, 25)\n",
            "Train...\n",
            "Epoch 1/10\n",
            "2973/2973 [==============================] - 64s 20ms/step - loss: 0.5237 - accuracy: 0.7154 - val_loss: 0.3423 - val_accuracy: 0.8587\n",
            "Epoch 2/10\n",
            "2973/2973 [==============================] - 58s 20ms/step - loss: 0.2281 - accuracy: 0.9146 - val_loss: 0.2762 - val_accuracy: 0.8917\n",
            "Epoch 3/10\n",
            "2973/2973 [==============================] - 58s 20ms/step - loss: 0.1520 - accuracy: 0.9411 - val_loss: 0.2641 - val_accuracy: 0.8994\n",
            "Epoch 4/10\n",
            "2973/2973 [==============================] - 58s 19ms/step - loss: 0.1175 - accuracy: 0.9547 - val_loss: 0.2985 - val_accuracy: 0.9011\n",
            "Epoch 5/10\n",
            "2973/2973 [==============================] - 58s 19ms/step - loss: 0.1038 - accuracy: 0.9582 - val_loss: 0.2954 - val_accuracy: 0.9082\n",
            "Epoch 6/10\n",
            "2973/2973 [==============================] - 58s 20ms/step - loss: 0.0922 - accuracy: 0.9624 - val_loss: 0.3340 - val_accuracy: 0.9088\n",
            "Epoch 7/10\n",
            "2973/2973 [==============================] - 58s 20ms/step - loss: 0.0861 - accuracy: 0.9665 - val_loss: 0.2932 - val_accuracy: 0.9076\n",
            "Epoch 8/10\n",
            "2973/2973 [==============================] - 59s 20ms/step - loss: 0.0786 - accuracy: 0.9670 - val_loss: 0.3471 - val_accuracy: 0.9088\n",
            "Epoch 9/10\n",
            "2973/2973 [==============================] - 58s 20ms/step - loss: 0.0799 - accuracy: 0.9672 - val_loss: 0.4199 - val_accuracy: 0.9076\n",
            "Epoch 10/10\n",
            "2973/2973 [==============================] - 58s 20ms/step - loss: 0.0746 - accuracy: 0.9684 - val_loss: 0.3879 - val_accuracy: 0.9105\n"
          ],
          "name": "stdout"
        },
        {
          "output_type": "stream",
          "text": [
            "/usr/local/lib/python3.7/dist-packages/keras/engine/sequential.py:450: UserWarning: `model.predict_classes()` is deprecated and will be removed after 2021-01-01. Please use instead:* `np.argmax(model.predict(x), axis=-1)`,   if your model does multi-class classification   (e.g. if it uses a `softmax` last-layer activation).* `(model.predict(x) > 0.5).astype(\"int32\")`,   if your model does binary classification   (e.g. if it uses a `sigmoid` last-layer activation).\n",
            "  warnings.warn('`model.predict_classes()` is deprecated and '\n"
          ],
          "name": "stderr"
        },
        {
          "output_type": "stream",
          "text": [
            "Accuracy =  4 \t 0.92319 \n",
            "\n",
            "Pad sequences (samples x time)\n",
            "x_train shape: (13588, 25)\n",
            "x_test shape: (3398, 25)\n",
            "Train...\n",
            "Epoch 1/10\n",
            "1487/1487 [==============================] - 35s 21ms/step - loss: 0.5321 - accuracy: 0.7041 - val_loss: 0.3237 - val_accuracy: 0.8546\n",
            "Epoch 2/10\n",
            "1487/1487 [==============================] - 29s 20ms/step - loss: 0.2324 - accuracy: 0.9116 - val_loss: 0.2928 - val_accuracy: 0.8876\n",
            "Epoch 3/10\n",
            "1487/1487 [==============================] - 29s 20ms/step - loss: 0.1631 - accuracy: 0.9385 - val_loss: 0.3499 - val_accuracy: 0.8923\n",
            "Epoch 4/10\n",
            "1487/1487 [==============================] - 30s 20ms/step - loss: 0.1196 - accuracy: 0.9524 - val_loss: 0.2763 - val_accuracy: 0.9017\n",
            "Epoch 5/10\n",
            "1487/1487 [==============================] - 30s 20ms/step - loss: 0.1033 - accuracy: 0.9593 - val_loss: 0.4002 - val_accuracy: 0.8941\n",
            "Epoch 6/10\n",
            "1487/1487 [==============================] - 29s 20ms/step - loss: 0.0932 - accuracy: 0.9585 - val_loss: 0.3417 - val_accuracy: 0.9082\n",
            "Epoch 7/10\n",
            "1487/1487 [==============================] - 29s 20ms/step - loss: 0.0813 - accuracy: 0.9639 - val_loss: 0.3682 - val_accuracy: 0.9088\n",
            "Epoch 8/10\n",
            "1487/1487 [==============================] - 29s 20ms/step - loss: 0.0824 - accuracy: 0.9623 - val_loss: 0.3668 - val_accuracy: 0.8976\n",
            "Epoch 9/10\n",
            "1487/1487 [==============================] - 29s 20ms/step - loss: 0.0744 - accuracy: 0.9697 - val_loss: 0.4059 - val_accuracy: 0.9070\n",
            "Epoch 10/10\n",
            "1487/1487 [==============================] - 29s 20ms/step - loss: 0.0717 - accuracy: 0.9694 - val_loss: 0.3909 - val_accuracy: 0.9105\n"
          ],
          "name": "stdout"
        },
        {
          "output_type": "stream",
          "text": [
            "/usr/local/lib/python3.7/dist-packages/keras/engine/sequential.py:450: UserWarning: `model.predict_classes()` is deprecated and will be removed after 2021-01-01. Please use instead:* `np.argmax(model.predict(x), axis=-1)`,   if your model does multi-class classification   (e.g. if it uses a `softmax` last-layer activation).* `(model.predict(x) > 0.5).astype(\"int32\")`,   if your model does binary classification   (e.g. if it uses a `sigmoid` last-layer activation).\n",
            "  warnings.warn('`model.predict_classes()` is deprecated and '\n"
          ],
          "name": "stderr"
        },
        {
          "output_type": "stream",
          "text": [
            "Accuracy =  8 \t 0.91789 \n",
            "\n",
            "Pad sequences (samples x time)\n",
            "x_train shape: (13588, 25)\n",
            "x_test shape: (3398, 25)\n",
            "Train...\n",
            "Epoch 1/10\n",
            "744/744 [==============================] - 21s 21ms/step - loss: 0.5549 - accuracy: 0.6925 - val_loss: 0.3327 - val_accuracy: 0.8634\n",
            "Epoch 2/10\n",
            "744/744 [==============================] - 15s 20ms/step - loss: 0.2405 - accuracy: 0.9101 - val_loss: 0.2757 - val_accuracy: 0.8870\n",
            "Epoch 3/10\n",
            "744/744 [==============================] - 15s 20ms/step - loss: 0.1632 - accuracy: 0.9383 - val_loss: 0.2950 - val_accuracy: 0.8982\n",
            "Epoch 4/10\n",
            "744/744 [==============================] - 15s 20ms/step - loss: 0.1281 - accuracy: 0.9526 - val_loss: 0.3510 - val_accuracy: 0.8935\n",
            "Epoch 5/10\n",
            "744/744 [==============================] - 15s 20ms/step - loss: 0.1059 - accuracy: 0.9568 - val_loss: 0.3147 - val_accuracy: 0.8929\n",
            "Epoch 6/10\n",
            "744/744 [==============================] - 15s 20ms/step - loss: 0.0871 - accuracy: 0.9639 - val_loss: 0.2890 - val_accuracy: 0.9088\n",
            "Epoch 7/10\n",
            "744/744 [==============================] - 15s 20ms/step - loss: 0.0833 - accuracy: 0.9652 - val_loss: 0.4068 - val_accuracy: 0.8994\n",
            "Epoch 8/10\n",
            "744/744 [==============================] - 15s 20ms/step - loss: 0.0787 - accuracy: 0.9681 - val_loss: 0.3416 - val_accuracy: 0.9076\n",
            "Epoch 9/10\n",
            "744/744 [==============================] - 15s 20ms/step - loss: 0.0736 - accuracy: 0.9671 - val_loss: 0.3552 - val_accuracy: 0.9070\n",
            "Epoch 10/10\n",
            "744/744 [==============================] - 15s 20ms/step - loss: 0.0803 - accuracy: 0.9674 - val_loss: 0.3745 - val_accuracy: 0.9076\n"
          ],
          "name": "stdout"
        },
        {
          "output_type": "stream",
          "text": [
            "/usr/local/lib/python3.7/dist-packages/keras/engine/sequential.py:450: UserWarning: `model.predict_classes()` is deprecated and will be removed after 2021-01-01. Please use instead:* `np.argmax(model.predict(x), axis=-1)`,   if your model does multi-class classification   (e.g. if it uses a `softmax` last-layer activation).* `(model.predict(x) > 0.5).astype(\"int32\")`,   if your model does binary classification   (e.g. if it uses a `sigmoid` last-layer activation).\n",
            "  warnings.warn('`model.predict_classes()` is deprecated and '\n"
          ],
          "name": "stderr"
        },
        {
          "output_type": "stream",
          "text": [
            "Accuracy =  16 \t 0.91436 \n",
            "\n",
            "Pad sequences (samples x time)\n",
            "x_train shape: (13588, 25)\n",
            "x_test shape: (3398, 25)\n",
            "Train...\n",
            "Epoch 1/10\n",
            "372/372 [==============================] - 13s 24ms/step - loss: 0.5817 - accuracy: 0.6732 - val_loss: 0.3331 - val_accuracy: 0.8511\n",
            "Epoch 2/10\n",
            "372/372 [==============================] - 8s 20ms/step - loss: 0.2436 - accuracy: 0.9070 - val_loss: 0.2823 - val_accuracy: 0.8893\n",
            "Epoch 3/10\n",
            "372/372 [==============================] - 7s 20ms/step - loss: 0.1570 - accuracy: 0.9445 - val_loss: 0.2619 - val_accuracy: 0.8999\n",
            "Epoch 4/10\n",
            "372/372 [==============================] - 7s 20ms/step - loss: 0.1352 - accuracy: 0.9502 - val_loss: 0.2797 - val_accuracy: 0.8911\n",
            "Epoch 5/10\n",
            "372/372 [==============================] - 8s 20ms/step - loss: 0.1208 - accuracy: 0.9553 - val_loss: 0.2795 - val_accuracy: 0.8994\n",
            "Epoch 6/10\n",
            "372/372 [==============================] - 8s 20ms/step - loss: 0.0988 - accuracy: 0.9611 - val_loss: 0.3190 - val_accuracy: 0.8988\n",
            "Epoch 7/10\n",
            "372/372 [==============================] - 8s 20ms/step - loss: 0.1008 - accuracy: 0.9571 - val_loss: 0.2751 - val_accuracy: 0.8970\n",
            "Epoch 8/10\n",
            "372/372 [==============================] - 8s 21ms/step - loss: 0.0845 - accuracy: 0.9697 - val_loss: 0.3349 - val_accuracy: 0.8941\n",
            "Epoch 9/10\n",
            "372/372 [==============================] - 8s 20ms/step - loss: 0.0880 - accuracy: 0.9614 - val_loss: 0.3748 - val_accuracy: 0.8923\n",
            "Epoch 10/10\n",
            "372/372 [==============================] - 8s 20ms/step - loss: 0.0796 - accuracy: 0.9689 - val_loss: 0.4615 - val_accuracy: 0.8923\n"
          ],
          "name": "stdout"
        },
        {
          "output_type": "stream",
          "text": [
            "/usr/local/lib/python3.7/dist-packages/keras/engine/sequential.py:450: UserWarning: `model.predict_classes()` is deprecated and will be removed after 2021-01-01. Please use instead:* `np.argmax(model.predict(x), axis=-1)`,   if your model does multi-class classification   (e.g. if it uses a `softmax` last-layer activation).* `(model.predict(x) > 0.5).astype(\"int32\")`,   if your model does binary classification   (e.g. if it uses a `sigmoid` last-layer activation).\n",
            "  warnings.warn('`model.predict_classes()` is deprecated and '\n"
          ],
          "name": "stderr"
        },
        {
          "output_type": "stream",
          "text": [
            "Accuracy =  32 \t 0.89994 \n",
            "\n",
            "Pad sequences (samples x time)\n",
            "x_train shape: (13588, 25)\n",
            "x_test shape: (3398, 25)\n",
            "Train...\n",
            "Epoch 1/10\n",
            "186/186 [==============================] - 9s 28ms/step - loss: 0.6021 - accuracy: 0.6397 - val_loss: 0.3378 - val_accuracy: 0.8611\n",
            "Epoch 2/10\n",
            "186/186 [==============================] - 4s 21ms/step - loss: 0.2479 - accuracy: 0.9105 - val_loss: 0.2855 - val_accuracy: 0.8946\n",
            "Epoch 3/10\n",
            "186/186 [==============================] - 4s 21ms/step - loss: 0.1729 - accuracy: 0.9381 - val_loss: 0.3241 - val_accuracy: 0.8970\n",
            "Epoch 4/10\n",
            "186/186 [==============================] - 4s 21ms/step - loss: 0.1401 - accuracy: 0.9495 - val_loss: 0.2893 - val_accuracy: 0.9017\n",
            "Epoch 5/10\n",
            "186/186 [==============================] - 4s 22ms/step - loss: 0.1144 - accuracy: 0.9591 - val_loss: 0.3147 - val_accuracy: 0.8823\n",
            "Epoch 6/10\n",
            "186/186 [==============================] - 4s 21ms/step - loss: 0.1117 - accuracy: 0.9598 - val_loss: 0.3147 - val_accuracy: 0.8999\n",
            "Epoch 7/10\n",
            "186/186 [==============================] - 4s 21ms/step - loss: 0.0997 - accuracy: 0.9608 - val_loss: 0.3011 - val_accuracy: 0.8958\n",
            "Epoch 8/10\n",
            "186/186 [==============================] - 4s 21ms/step - loss: 0.0895 - accuracy: 0.9638 - val_loss: 0.3613 - val_accuracy: 0.8905\n",
            "Epoch 9/10\n",
            "186/186 [==============================] - 4s 21ms/step - loss: 0.0938 - accuracy: 0.9628 - val_loss: 0.3426 - val_accuracy: 0.8923\n",
            "Epoch 10/10\n",
            "186/186 [==============================] - 4s 21ms/step - loss: 0.0837 - accuracy: 0.9649 - val_loss: 0.3809 - val_accuracy: 0.8952\n"
          ],
          "name": "stdout"
        },
        {
          "output_type": "stream",
          "text": [
            "/usr/local/lib/python3.7/dist-packages/keras/engine/sequential.py:450: UserWarning: `model.predict_classes()` is deprecated and will be removed after 2021-01-01. Please use instead:* `np.argmax(model.predict(x), axis=-1)`,   if your model does multi-class classification   (e.g. if it uses a `softmax` last-layer activation).* `(model.predict(x) > 0.5).astype(\"int32\")`,   if your model does binary classification   (e.g. if it uses a `sigmoid` last-layer activation).\n",
            "  warnings.warn('`model.predict_classes()` is deprecated and '\n"
          ],
          "name": "stderr"
        },
        {
          "output_type": "stream",
          "text": [
            "Accuracy =  64 \t 0.91289 \n",
            "\n",
            "Pad sequences (samples x time)\n",
            "x_train shape: (13588, 25)\n",
            "x_test shape: (3398, 25)\n",
            "Train...\n",
            "Epoch 1/10\n",
            "93/93 [==============================] - 8s 35ms/step - loss: 0.6591 - accuracy: 0.6012 - val_loss: 0.4079 - val_accuracy: 0.8164\n",
            "Epoch 2/10\n",
            "93/93 [==============================] - 2s 22ms/step - loss: 0.3051 - accuracy: 0.8739 - val_loss: 0.2889 - val_accuracy: 0.8864\n",
            "Epoch 3/10\n",
            "93/93 [==============================] - 2s 23ms/step - loss: 0.1818 - accuracy: 0.9390 - val_loss: 0.2712 - val_accuracy: 0.9005\n",
            "Epoch 4/10\n",
            "93/93 [==============================] - 2s 22ms/step - loss: 0.1335 - accuracy: 0.9520 - val_loss: 0.2776 - val_accuracy: 0.9035\n",
            "Epoch 5/10\n",
            "93/93 [==============================] - 2s 22ms/step - loss: 0.1124 - accuracy: 0.9604 - val_loss: 0.2656 - val_accuracy: 0.9017\n",
            "Epoch 6/10\n",
            "93/93 [==============================] - 2s 23ms/step - loss: 0.1123 - accuracy: 0.9571 - val_loss: 0.3353 - val_accuracy: 0.9005\n",
            "Epoch 7/10\n",
            "93/93 [==============================] - 2s 22ms/step - loss: 0.0957 - accuracy: 0.9631 - val_loss: 0.3014 - val_accuracy: 0.9017\n",
            "Epoch 8/10\n",
            "93/93 [==============================] - 2s 22ms/step - loss: 0.0900 - accuracy: 0.9645 - val_loss: 0.3297 - val_accuracy: 0.8923\n",
            "Epoch 9/10\n",
            "93/93 [==============================] - 2s 22ms/step - loss: 0.0862 - accuracy: 0.9654 - val_loss: 0.3250 - val_accuracy: 0.9094\n",
            "Epoch 10/10\n",
            "93/93 [==============================] - 2s 22ms/step - loss: 0.0818 - accuracy: 0.9662 - val_loss: 0.4340 - val_accuracy: 0.8817\n"
          ],
          "name": "stdout"
        },
        {
          "output_type": "stream",
          "text": [
            "/usr/local/lib/python3.7/dist-packages/keras/engine/sequential.py:450: UserWarning: `model.predict_classes()` is deprecated and will be removed after 2021-01-01. Please use instead:* `np.argmax(model.predict(x), axis=-1)`,   if your model does multi-class classification   (e.g. if it uses a `softmax` last-layer activation).* `(model.predict(x) > 0.5).astype(\"int32\")`,   if your model does binary classification   (e.g. if it uses a `sigmoid` last-layer activation).\n",
            "  warnings.warn('`model.predict_classes()` is deprecated and '\n"
          ],
          "name": "stderr"
        },
        {
          "output_type": "stream",
          "text": [
            "Accuracy =  128 \t 0.88935 \n",
            "\n"
          ],
          "name": "stdout"
        }
      ]
    },
    {
      "cell_type": "markdown",
      "metadata": {
        "id": "SNXCsbncq3qa"
      },
      "source": [
        "#Train model"
      ]
    },
    {
      "cell_type": "code",
      "metadata": {
        "id": "_jykZ75u_g-0"
      },
      "source": [
        "max_features = len(word_to_index)\n",
        "\n",
        "maxlen = df.text.map(lambda x:len(x)).max()\n",
        "batch_size = 4\n",
        "\n",
        "\n",
        "x_train, x_test, y_train, y_test = train_test_split(df['text'], \n",
        "                                                    df['sentiment'], \n",
        "                                                    random_state=1375, \n",
        "                                                    test_size=0.2, \n",
        "                                                    stratify=df['sentiment'])"
      ],
      "execution_count": 26,
      "outputs": []
    },
    {
      "cell_type": "code",
      "metadata": {
        "colab": {
          "base_uri": "https://localhost:8080/"
        },
        "id": "3pJfM_jaIeIZ",
        "outputId": "1617035c-fd01-427a-9004-8e4aedd58d96"
      },
      "source": [
        "print('Pad sequences (samples x time)')\n",
        "x_train = sequence.pad_sequences(x_train, maxlen=maxlen)\n",
        "x_test = sequence.pad_sequences(x_test, maxlen=maxlen)\n",
        "\n",
        "print('x_train shape:', x_train.shape)\n",
        "print('x_test shape:', x_test.shape)\n",
        "\n",
        "\n",
        "y_train = np.array(y_train)\n",
        "y_test = np.array(y_test)\n",
        "\n",
        "y_train = y_train.astype('int32')\n",
        "y_test = y_test.astype('int32')\n"
      ],
      "execution_count": 27,
      "outputs": [
        {
          "output_type": "stream",
          "text": [
            "Pad sequences (samples x time)\n",
            "x_train shape: (13588, 25)\n",
            "x_test shape: (3398, 25)\n"
          ],
          "name": "stdout"
        }
      ]
    },
    {
      "cell_type": "code",
      "metadata": {
        "colab": {
          "base_uri": "https://localhost:8080/"
        },
        "id": "D7LSkRQUEn3r",
        "outputId": "c8ad1cbb-07fa-454e-f70f-e72f83835a47"
      },
      "source": [
        "model = Sequential()\n",
        "model.add(Embedding(max_features, maxlen, input_length=maxlen))\n",
        "model.add(Bidirectional(LSTM(64)))\n",
        "model.add(Dropout(0.3))\n",
        "model.add(Dense(1, activation='sigmoid'))\n",
        "\n",
        "model.compile('adam', 'binary_crossentropy', metrics=['accuracy'])\n",
        "\n",
        "print('Train...')\n",
        "hist = model.fit(x_train, y_train,batch_size=batch_size,epochs=10,validation_split=0.125)"
      ],
      "execution_count": 28,
      "outputs": [
        {
          "output_type": "stream",
          "text": [
            "Train...\n",
            "Epoch 1/10\n",
            "2973/2973 [==============================] - 63s 20ms/step - loss: 0.5238 - accuracy: 0.7234 - val_loss: 0.3230 - val_accuracy: 0.8629\n",
            "Epoch 2/10\n",
            "2973/2973 [==============================] - 58s 19ms/step - loss: 0.2382 - accuracy: 0.9101 - val_loss: 0.2584 - val_accuracy: 0.9023\n",
            "Epoch 3/10\n",
            "2973/2973 [==============================] - 58s 19ms/step - loss: 0.1578 - accuracy: 0.9373 - val_loss: 0.2575 - val_accuracy: 0.9029\n",
            "Epoch 4/10\n",
            "2973/2973 [==============================] - 59s 20ms/step - loss: 0.1039 - accuracy: 0.9604 - val_loss: 0.3031 - val_accuracy: 0.9005\n",
            "Epoch 5/10\n",
            "2973/2973 [==============================] - 58s 19ms/step - loss: 0.1023 - accuracy: 0.9607 - val_loss: 0.2742 - val_accuracy: 0.9105\n",
            "Epoch 6/10\n",
            "2973/2973 [==============================] - 58s 19ms/step - loss: 0.0828 - accuracy: 0.9664 - val_loss: 0.2961 - val_accuracy: 0.9147\n",
            "Epoch 7/10\n",
            "2973/2973 [==============================] - 58s 19ms/step - loss: 0.0856 - accuracy: 0.9658 - val_loss: 0.3124 - val_accuracy: 0.9064\n",
            "Epoch 8/10\n",
            "2973/2973 [==============================] - 58s 19ms/step - loss: 0.0772 - accuracy: 0.9686 - val_loss: 0.4470 - val_accuracy: 0.8994\n",
            "Epoch 9/10\n",
            "2973/2973 [==============================] - 57s 19ms/step - loss: 0.0767 - accuracy: 0.9679 - val_loss: 0.3583 - val_accuracy: 0.9046\n",
            "Epoch 10/10\n",
            "2973/2973 [==============================] - 57s 19ms/step - loss: 0.0734 - accuracy: 0.9697 - val_loss: 0.3822 - val_accuracy: 0.8958\n"
          ],
          "name": "stdout"
        }
      ]
    },
    {
      "cell_type": "code",
      "metadata": {
        "colab": {
          "base_uri": "https://localhost:8080/",
          "height": 621
        },
        "id": "Bl81Chs8Tj-G",
        "outputId": "cf5fafca-72f4-49c1-840c-7ced4f8bb040"
      },
      "source": [
        "plt.figure(figsize=(10,10))\n",
        "\n",
        "plt.plot(hist.history['accuracy'],color='r')\n",
        "plt.plot(hist.history['val_accuracy'],color='b')\n",
        "plt.legend(['Train accuracy','Val accuracy'])\n",
        "plt.title('accuracy')\n",
        "plt.ylabel('accuracy')\n",
        "plt.xlabel('epoch')\n",
        "plt.show()"
      ],
      "execution_count": 32,
      "outputs": [
        {
          "output_type": "display_data",
          "data": {
            "image/png": "[encoded data removed]",
            "text/plain": [
              "<Figure size 720x720 with 1 Axes>"
            ]
          },
          "metadata": {
            "tags": [],
            "needs_background": "light"
          }
        }
      ]
    },
    {
      "cell_type": "code",
      "metadata": {
        "colab": {
          "base_uri": "https://localhost:8080/",
          "height": 621
        },
        "id": "5iqJoCUIWR7f",
        "outputId": "c8ed8ed4-4232-41e4-932e-08c8bb85ac62"
      },
      "source": [
        "plt.figure(figsize=(10,10))\n",
        "\n",
        "plt.plot(hist.history['loss'],color='r')\n",
        "plt.plot(hist.history['val_loss'],color='b')\n",
        "plt.legend(['Train loss','Val loss'])\n",
        "plt.title('loss')\n",
        "plt.ylabel('loss')\n",
        "plt.xlabel('epoch')\n",
        "plt.show()"
      ],
      "execution_count": 33,
      "outputs": [
        {
          "output_type": "display_data",
          "data": {
            "image/png": "[encoded data removed]",
            "text/plain": [
              "<Figure size 720x720 with 1 Axes>"
            ]
          },
          "metadata": {
            "tags": [],
            "needs_background": "light"
          }
        }
      ]
    },
    {
      "cell_type": "markdown",
      "metadata": {
        "id": "DUKOMK48q956"
      },
      "source": [
        "#Evaluate"
      ]
    },
    {
      "cell_type": "code",
      "metadata": {
        "colab": {
          "base_uri": "https://localhost:8080/",
          "height": 549
        },
        "id": "6fhEYNCGosKM",
        "outputId": "16cd7e37-a7f1-4fb5-96ac-01eccd545771"
      },
      "source": [
        "from sklearn.metrics import precision_score, recall_score, f1_score,accuracy_score,confusion_matrix\n",
        "!pip install -q scikit-plot\n",
        "import scikitplot as skplt\n",
        "\n",
        "true_label = y_test\n",
        "predicted_label = model.predict_classes(x_test)\n",
        "predicted_label = predicted_label.reshape(1,len(predicted_label))\n",
        "predicted_label = predicted_label[0]\n",
        "skplt.metrics.plot_confusion_matrix(true_label,predicted_label,title=\"Confusion Matrix\",figsize=(6,6))\n",
        "\n",
        "precision = precision_score(true_label, predicted_label, average='macro')\n",
        "recall = recall_score(true_label, predicted_label, average='macro')\n",
        "f1 = f1_score(true_label, predicted_label,average='macro')\n",
        "accuracy = accuracy_score(true_label, predicted_label)\n",
        "\n",
        "print('Precision = ',round(precision,5),'\\n')\n",
        "print('Recall = ',round(recall,5),'\\n')\n",
        "print('F1 = ',round(f1,5),'\\n')\n",
        "print('Accuracy = ',round(accuracy,5),'\\n')"
      ],
      "execution_count": 31,
      "outputs": [
        {
          "output_type": "stream",
          "text": [
            "/usr/local/lib/python3.7/dist-packages/keras/engine/sequential.py:450: UserWarning: `model.predict_classes()` is deprecated and will be removed after 2021-01-01. Please use instead:* `np.argmax(model.predict(x), axis=-1)`,   if your model does multi-class classification   (e.g. if it uses a `softmax` last-layer activation).* `(model.predict(x) > 0.5).astype(\"int32\")`,   if your model does binary classification   (e.g. if it uses a `sigmoid` last-layer activation).\n",
            "  warnings.warn('`model.predict_classes()` is deprecated and '\n"
          ],
          "name": "stderr"
        },
        {
          "output_type": "stream",
          "text": [
            "Precision =  0.91454 \n",
            "\n",
            "Recall =  0.90759 \n",
            "\n",
            "F1 =  0.9072 \n",
            "\n",
            "Accuracy =  0.90759 \n",
            "\n"
          ],
          "name": "stdout"
        },
        {
          "output_type": "display_data",
          "data": {
            "image/png": "[encoded data removed]",
            "text/plain": [
              "<Figure size 432x432 with 2 Axes>"
            ]
          },
          "metadata": {
            "tags": [],
            "needs_background": "light"
          }
        }
      ]
    }
  ]
}